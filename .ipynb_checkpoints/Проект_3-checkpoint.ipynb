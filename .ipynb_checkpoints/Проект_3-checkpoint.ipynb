{
 "cells": [
  {
   "cell_type": "code",
   "execution_count": 14,
   "id": "c8c08d09-1e51-419b-89d0-f17e51697c99",
   "metadata": {
    "tags": []
   },
   "outputs": [
    {
     "name": "stdout",
     "output_type": "stream",
     "text": [
      "[{'datetime': 'Wed, 01 Mar 2023 13:29:22 GMT', 'platform': 'web', 'user_agent': 'Mozilla/5.0 (Macintosh; Intel Mac OS X 10_11_2) AppleWebKit/601.3.9 (KHTML, like Gecko) Version/9.0.2 Safari/601.3.9', 'visit_id': '1de9ea66-70d3-4a1f-8735-df5ef7697fb9'}, {'datetime': 'Wed, 01 Mar 2023 16:44:28 GMT', 'platform': 'web', 'user_agent': 'Mozilla/5.0 (X11; CrOS x86_64 8172.45.0) AppleWebKit/537.36 (KHTML, like Gecko) Chrome/51.0.2704.64 Safari/537.36', 'visit_id': 'f149f542-e935-4870-9734-6b4501eaf614'}, {'datetime': 'Mon, 06 Mar 2023 06:12:36 GMT', 'platform': 'web', 'user_agent': 'Mozilla/5.0 (X11; CrOS x86_64 8172.45.0) AppleWebKit/537.36 (KHTML, like Gecko) Chrome/51.0.2704.64 Safari/537.36', 'visit_id': 'f149f542-e935-4870-9734-6b4501eaf614'}, {'datetime': 'Wed, 01 Mar 2023 20:16:37 GMT', 'platform': 'web', 'user_agent': 'Mozilla/5.0 (X11; Ubuntu; Linux x86_64; rv:109.0) Gecko/20100101 Firefox/113.0', 'visit_id': '08f0ebd4-950c-4dd9-8e97-b5bdf073eed1'}, {'datetime': 'Sun, 05 Mar 2023 17:42:47 GMT', 'platform': 'web', 'user_agent': 'Mozilla/5.0 (X11; Ubuntu; Linux x86_64; rv:109.0) Gecko/20100101 Firefox/113.0', 'visit_id': '08f0ebd4-950c-4dd9-8e97-b5bdf073eed1'}]\n"
     ]
    }
   ],
   "source": [
    "import requests\n",
    "\n",
    "requests.get(\"https://data-charts-api.hexlet.app/visits?begin=2022-06-01&end=2023-06-01\")\n",
    "\n",
    "print(response.json()[:5])"
   ]
  },
  {
   "cell_type": "code",
   "execution_count": 13,
   "id": "9e340588-1a02-4263-9c21-c1647eaaf24a",
   "metadata": {
    "tags": []
   },
   "outputs": [
    {
     "name": "stdout",
     "output_type": "stream",
     "text": [
      "Статус-код: 200\n",
      "Первые пять строк данных:\n",
      "[{'datetime': 'Wed, 01 Mar 2023 13:29:22 GMT', 'platform': 'web', 'user_agent': 'Mozilla/5.0 (Macintosh; Intel Mac OS X 10_11_2) AppleWebKit/601.3.9 (KHTML, like Gecko) Version/9.0.2 Safari/601.3.9', 'visit_id': '1de9ea66-70d3-4a1f-8735-df5ef7697fb9'}, {'datetime': 'Wed, 01 Mar 2023 16:44:28 GMT', 'platform': 'web', 'user_agent': 'Mozilla/5.0 (X11; CrOS x86_64 8172.45.0) AppleWebKit/537.36 (KHTML, like Gecko) Chrome/51.0.2704.64 Safari/537.36', 'visit_id': 'f149f542-e935-4870-9734-6b4501eaf614'}, {'datetime': 'Mon, 06 Mar 2023 06:12:36 GMT', 'platform': 'web', 'user_agent': 'Mozilla/5.0 (X11; CrOS x86_64 8172.45.0) AppleWebKit/537.36 (KHTML, like Gecko) Chrome/51.0.2704.64 Safari/537.36', 'visit_id': 'f149f542-e935-4870-9734-6b4501eaf614'}, {'datetime': 'Wed, 01 Mar 2023 20:16:37 GMT', 'platform': 'web', 'user_agent': 'Mozilla/5.0 (X11; Ubuntu; Linux x86_64; rv:109.0) Gecko/20100101 Firefox/113.0', 'visit_id': '08f0ebd4-950c-4dd9-8e97-b5bdf073eed1'}, {'datetime': 'Sun, 05 Mar 2023 17:42:47 GMT', 'platform': 'web', 'user_agent': 'Mozilla/5.0 (X11; Ubuntu; Linux x86_64; rv:109.0) Gecko/20100101 Firefox/113.0', 'visit_id': '08f0ebd4-950c-4dd9-8e97-b5bdf073eed1'}]\n"
     ]
    }
   ],
   "source": [
    "import requests\n",
    "\n",
    "# Отправляем GET-запрос\n",
    "response = requests.get(\"https://data-charts-api.hexlet.app/visits?begin=2022-06-01&end=2023-06-01\")\n",
    "\n",
    "# Проверяем статус-код\n",
    "print(f\"Статус-код: {response.status_code}\")\n",
    "\n",
    "# Если запрос успешен, выводим первые пять строк данных\n",
    "if response.status_code == 200:\n",
    "    data = response.json()\n",
    "    print(\"Первые пять строк данных:\")\n",
    "    print(data[:5])\n",
    "else:\n",
    "    print(f\"Ошибка при запросе данных. Код ошибки: {response.status_code}\")\n"
   ]
  },
  {
   "cell_type": "code",
   "execution_count": null,
   "id": "d8173262-e208-40ba-878d-f1567e517e0c",
   "metadata": {},
   "outputs": [],
   "source": []
  }
 ],
 "metadata": {
  "kernelspec": {
   "display_name": "Python 3 (ipykernel)",
   "language": "python",
   "name": "python3"
  },
  "language_info": {
   "codemirror_mode": {
    "name": "ipython",
    "version": 3
   },
   "file_extension": ".py",
   "mimetype": "text/x-python",
   "name": "python",
   "nbconvert_exporter": "python",
   "pygments_lexer": "ipython3",
   "version": "3.11.5"
  }
 },
 "nbformat": 4,
 "nbformat_minor": 5
}
