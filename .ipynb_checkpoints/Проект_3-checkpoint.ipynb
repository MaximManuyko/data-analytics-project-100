{
 "cells": [
  {
   "cell_type": "markdown",
   "id": "ba703a03-c822-4107-8efd-e833f9db6cab",
   "metadata": {
    "tags": []
   },
   "source": [
    "Проект модуля #3\n",
    "# Дашборд конверсий\n",
    "Аналитик данных"
   ]
  },
  {
   "cell_type": "markdown",
   "id": "fe0d0980-c831-43e4-8fdb-c79b08b9365e",
   "metadata": {},
   "source": [
    "# Шаг 1\n",
    "## Подготовка к работе с данными"
   ]
  },
  {
   "cell_type": "markdown",
   "id": "c1a2c0a6-8054-4512-b2a4-443310e747f2",
   "metadata": {
    "tags": []
   },
   "source": [
    "### Загрузите данные по рекламам из csv"
   ]
  },
  {
   "cell_type": "code",
   "execution_count": null,
   "id": "80cd64e4-1d3e-40e8-a47a-8ec049e99f59",
   "metadata": {
    "tags": []
   },
   "outputs": [],
   "source": [
    "import pandas as pd\n",
    "import requests\n",
    "import matplotlib.pyplot as plt\n",
    "from matplotlib.dates import WeekdayLocator, MONDAY\n",
    "import matplotlib.dates as mdates\n",
    "from pandas.plotting import register_matplotlib_converters\n",
    "import numpy as np\n",
    "from io import StringIO\n",
    "from matplotlib.ticker import MultipleLocator"
   ]
  },
  {
   "cell_type": "code",
   "execution_count": null,
   "id": "49f1ae60-2a34-40af-bf8f-53e0317eb269",
   "metadata": {
    "tags": []
   },
   "outputs": [],
   "source": [
    "response = requests.get('https://drive.google.com/uc?id=1pwrFxZKf-fNiFwv8DIzt5bNhlzcxvmcz')\n",
    "csv_data = StringIO(response.text)\n",
    "\n",
    "df_ads = pd.read_csv(csv_data)\n",
    "\n",
    "df_ads.head()"
   ]
  },
  {
   "cell_type": "markdown",
   "id": "1b66c603-1c63-4222-814e-19174113a108",
   "metadata": {},
   "source": [
    "### Изучите данные, сделайте предварительный анализ с помощью dataframe.describe"
   ]
  },
  {
   "cell_type": "code",
   "execution_count": null,
   "id": "c98883d3-8237-4429-9083-87f6675d07d2",
   "metadata": {
    "tags": []
   },
   "outputs": [],
   "source": [
    "df_ads.describe(include='all')"
   ]
  },
  {
   "cell_type": "markdown",
   "id": "f3f78288-dc7a-49ef-a9a6-97fd4722f5bb",
   "metadata": {},
   "source": [
    "### Визиты из CSV"
   ]
  },
  {
   "cell_type": "code",
   "execution_count": null,
   "id": "5b37d895-f3c6-48fa-afce-f51a6b79753c",
   "metadata": {
    "tags": []
   },
   "outputs": [],
   "source": [
    "df_visits_csv = pd.read_csv(\"https://drive.google.com/uc?id=1QosQQ4RRNR9rkL4t7sB707h2Uy0XfYJe\")\n",
    "\n",
    "df_visits_csv.head()\n"
   ]
  },
  {
   "cell_type": "code",
   "execution_count": null,
   "id": "c0462c9d-bcd1-48c6-bc06-521b7ceb6507",
   "metadata": {
    "tags": []
   },
   "outputs": [],
   "source": [
    "df_visits_csv.describe(include='all')"
   ]
  },
  {
   "cell_type": "markdown",
   "id": "8e008928-e77e-4727-afaa-792908743c80",
   "metadata": {},
   "source": [
    "### Регистрации из CSV"
   ]
  },
  {
   "cell_type": "code",
   "execution_count": null,
   "id": "a50db40d-9a7e-49b2-ba9e-e39aa15e2038",
   "metadata": {
    "tags": []
   },
   "outputs": [],
   "source": [
    "df_registrations_csv = pd.read_csv(\"https://drive.google.com/uc?id=1AeQz0kaSgz0lxYSDtuNm36muhy5fRCzZ\")\n",
    "\n",
    "df_registrations_csv.head()"
   ]
  },
  {
   "cell_type": "code",
   "execution_count": null,
   "id": "edb320de-bd74-4f9e-b4d8-d909c741044b",
   "metadata": {
    "tags": []
   },
   "outputs": [],
   "source": [
    "df_registrations_csv.describe(include='all')"
   ]
  },
  {
   "cell_type": "markdown",
   "id": "a3692d32-5d03-486a-9047-e101c4c94943",
   "metadata": {},
   "source": [
    "# Шаг 2\n",
    "## Запросы к API\n",
    "### Запросите данные по API за период 2023-03-01 -> 2023-09-01"
   ]
  },
  {
   "cell_type": "markdown",
   "id": "bdc19b93-cf3f-4175-8ae8-c112cd07a6b1",
   "metadata": {},
   "source": [
    "### Визиты"
   ]
  },
  {
   "cell_type": "code",
   "execution_count": null,
   "id": "7aac9ef9-dc59-47ed-b29c-666fce0136a8",
   "metadata": {
    "tags": []
   },
   "outputs": [],
   "source": [
    "START = \"2023-03-01\"\n",
    "END = \"2023-09-01\""
   ]
  },
  {
   "cell_type": "code",
   "execution_count": null,
   "id": "43924a67-cc62-4274-b56d-c3930a142b95",
   "metadata": {
    "tags": []
   },
   "outputs": [],
   "source": [
    "response = requests.get(f\"https://data-charts-api.hexlet.app/visits?begin={START}&end={END}\")\n",
    "\n",
    "data = response.json()\n",
    "\n",
    "df_visits = pd.DataFrame(data)\n",
    "\n",
    "df_visits.head()"
   ]
  },
  {
   "cell_type": "code",
   "execution_count": null,
   "id": "c0782992-f095-4607-a60f-ad6f60edfb8b",
   "metadata": {
    "tags": []
   },
   "outputs": [],
   "source": [
    "df_visits.describe(include='all')"
   ]
  },
  {
   "cell_type": "markdown",
   "id": "b82c437f-0c78-4be1-9e27-67ab1d3a0096",
   "metadata": {},
   "source": [
    "### Регистрации"
   ]
  },
  {
   "cell_type": "code",
   "execution_count": null,
   "id": "e0f5effc-990b-4597-8c38-33443ed9a083",
   "metadata": {
    "tags": []
   },
   "outputs": [],
   "source": [
    "response = requests.get(f\"https://data-charts-api.hexlet.app/registrations?begin={START}&end={END}\")\n",
    "\n",
    "data = response.json()\n",
    "\n",
    "df_registrations = pd.DataFrame(data)\n",
    "\n",
    "df_registrations.head()"
   ]
  },
  {
   "cell_type": "code",
   "execution_count": null,
   "id": "a4e866f2-8de9-4837-9fab-bd150c3658bf",
   "metadata": {
    "tags": []
   },
   "outputs": [],
   "source": [
    "df_registrations.describe(include='all')"
   ]
  },
  {
   "cell_type": "markdown",
   "id": "39f34bfc-15ad-41a2-8092-5d5e5c76eb3c",
   "metadata": {
    "tags": []
   },
   "source": [
    "# Шаг 3\n",
    "\n",
    "## Расчет метрик\n",
    "\n",
    "### Сгруппируйте данные визитов по датам и платформам"
   ]
  },
  {
   "cell_type": "code",
   "execution_count": null,
   "id": "ee763053-9088-4ee0-a134-7c6a32e68d1a",
   "metadata": {
    "tags": []
   },
   "outputs": [],
   "source": [
    "response = requests.get(f\"https://data-charts-api.hexlet.app/visits?begin={START}&end={END}\")\n",
    "data = response.json()\n",
    "\n",
    "df_visits = pd.DataFrame(data)\n",
    "\n",
    "df_visits['datetime'] = pd.to_datetime(df_visits['datetime'])\n",
    "\n",
    "idx = df_visits.groupby('visit_id')['datetime'].idxmax()\n",
    "\n",
    "df_filtered_visits = df_visits.loc[idx]\n",
    "\n",
    "df_filtered_visits = df_filtered_visits[~df_filtered_visits['user_agent'].str.contains('bot', case=False)]\n",
    "\n",
    "df_filtered_visits['datetime'] = df_filtered_visits['datetime'].dt.strftime('%Y-%m-%d')\n",
    "\n",
    "df_grouped = df_filtered_visits.groupby(['datetime', 'platform']).size().reset_index(name='visits')\n",
    "\n",
    "df_grouped.columns = ['date_group', 'platform', 'visits']\n",
    "\n",
    "df_visit_grouped = df_grouped.sort_values(by='date_group')\n",
    "\n",
    "df_visit_grouped.head()"
   ]
  },
  {
   "cell_type": "code",
   "execution_count": null,
   "id": "0115928a-c892-4c58-bca3-ef47be5c5c16",
   "metadata": {
    "tags": []
   },
   "outputs": [],
   "source": [
    "df_visit_grouped.describe(include='all')"
   ]
  },
  {
   "cell_type": "markdown",
   "id": "ddbceed0-4333-4cb2-ba46-a084e9e20b85",
   "metadata": {},
   "source": [
    "### Сгруппируйте также данные регистраций по датам и платформам"
   ]
  },
  {
   "cell_type": "code",
   "execution_count": null,
   "id": "6348063f-65c1-4616-963f-2ee40b8b6394",
   "metadata": {
    "tags": []
   },
   "outputs": [],
   "source": [
    "response = requests.get(f\"https://data-charts-api.hexlet.app/registrations?begin={START}&end={END}\")\n",
    "data = response.json()\n",
    "\n",
    "df_registrations = pd.DataFrame(data)\n",
    "\n",
    "df_registrations['date_group'] = pd.to_datetime(df_registrations['datetime']).dt.strftime('%Y-%m-%d')\n",
    "\n",
    "df_grouped = df_registrations.groupby(['date_group', 'platform']).size().reset_index(name='registrations')\n",
    "\n",
    "df_registrations_grouped = df_grouped.sort_values(by=['date_group'])\n",
    "\n",
    "df_registrations_grouped.head()"
   ]
  },
  {
   "cell_type": "code",
   "execution_count": null,
   "id": "e113da0e-24d1-4f76-b2ba-5295e1dc71c8",
   "metadata": {
    "tags": []
   },
   "outputs": [],
   "source": [
    "df_registrations_grouped.describe(include='all')"
   ]
  },
  {
   "cell_type": "markdown",
   "id": "e73df0cb-bddc-4c63-b95d-9a8588c93cdb",
   "metadata": {},
   "source": [
    "### Объедините датайфреймы, сделайте итоговый датафрейм с расчетом конверсии\n",
    "\n",
    "### Сохраните датафрейм в формате JSON conversion.json"
   ]
  },
  {
   "cell_type": "code",
   "execution_count": null,
   "id": "b472dbdc-5594-4c38-802d-825c6158c363",
   "metadata": {
    "tags": []
   },
   "outputs": [],
   "source": [
    "result_df = pd.merge(df_visit_grouped, df_registrations_grouped, on=['date_group', 'platform'], how='outer')\n",
    "\n",
    "result_df['conversion'] = (result_df['registrations'] / result_df['visits']) * 100\n",
    "\n",
    "result_df['conversion'] = result_df['conversion'].round(2)\n",
    "\n",
    "df_conversion = result_df.sort_values(by='date_group')\n",
    "\n",
    "df_conversion.to_json('conversion.json')\n",
    "\n",
    "df_conversion.head()"
   ]
  },
  {
   "cell_type": "code",
   "execution_count": null,
   "id": "427f2770-4cc1-427e-a93c-c7a67cd491b6",
   "metadata": {
    "tags": []
   },
   "outputs": [],
   "source": [
    "df_conversion.describe(include='all')"
   ]
  },
  {
   "cell_type": "markdown",
   "id": "60e554cc-4ef7-40dd-b810-94f646d3de7b",
   "metadata": {},
   "source": [
    "# Шаг 4\n",
    "\n",
    "## Добавляем рекламы\n",
    "\n",
    "### В этом шаге добавим данные по рекламным кампаниям"
   ]
  },
  {
   "cell_type": "code",
   "execution_count": null,
   "id": "4a39419c-2a33-47e2-a440-77a4743deefe",
   "metadata": {
    "tags": []
   },
   "outputs": [],
   "source": [
    "df_ads = pd.read_csv(\"https://drive.google.com/uc?id=1pwrFxZKf-fNiFwv8DIzt5bNhlzcxvmcz\")\n",
    "\n",
    "df_ads['date'] = pd.to_datetime(df_ads['date'])\n",
    "\n",
    "df_ads['date'] = df_ads['date'].dt.strftime('%Y-%m-%d')\n",
    "\n",
    "df_ads.rename(columns={'date': 'date_group'}, inplace=True)\n",
    "\n",
    "df_ads.head()"
   ]
  },
  {
   "cell_type": "code",
   "execution_count": null,
   "id": "c0fa8ae6-9d2c-43e9-b606-0074926d1082",
   "metadata": {
    "tags": []
   },
   "outputs": [],
   "source": [
    "df_ads.describe(include='all')"
   ]
  },
  {
   "cell_type": "code",
   "execution_count": null,
   "id": "2df7bcd0-8cdc-4fb1-b9bb-ff5c326f0c68",
   "metadata": {
    "tags": []
   },
   "outputs": [],
   "source": [
    "df_ads.rename(columns={'date': 'date_group', 'utm_campaign': 'campaign'}, inplace=True)\n",
    "\n",
    "df_ads_group = df_ads.groupby(['date_group', 'campaign']).agg({\n",
    "    'cost': 'sum'\n",
    "}).reset_index()[['date_group', 'cost', 'campaign']]\n",
    "\n",
    "df_ads_group.head()"
   ]
  },
  {
   "cell_type": "code",
   "execution_count": null,
   "id": "ab76fcc1-7787-4f27-abc5-481180bf5585",
   "metadata": {
    "tags": []
   },
   "outputs": [],
   "source": [
    "df_ads_group.describe(include='all')"
   ]
  },
  {
   "cell_type": "code",
   "execution_count": null,
   "id": "6d4bd400-1be2-46d0-adc4-3ca931fab99d",
   "metadata": {
    "tags": []
   },
   "outputs": [],
   "source": [
    "df_out = pd.merge(df_ads_group, df_conversion, on='date_group', how='outer', suffixes=('_ads', '_conversion'))\n",
    "\n",
    "df_out['cost'].fillna(0, inplace=True)\n",
    "df_out['campaign'].fillna('none', inplace=True)\n",
    "\n",
    "column_order = ['date_group', 'platform', 'visits', 'registrations', 'conversion', 'cost', 'campaign']\n",
    "df_out = df_out[column_order]\n",
    "\n",
    "df_out.sort_values(by='date_group', inplace=True)\n",
    "\n",
    "df_out.reset_index(drop=True, inplace=True)\n",
    "\n",
    "START = pd.to_datetime(\"2023-03-01\")\n",
    "END = pd.to_datetime(\"2023-09-01\") - pd.Timedelta(days=1)\n",
    "\n",
    "df_out['date_group'] = pd.to_datetime(df_out['date_group'])\n",
    "\n",
    "df_out = df_out[(df_out['date_group'] >= START) & (df_out['date_group'] <= END)]\n",
    "\n",
    "df_out.head()"
   ]
  },
  {
   "cell_type": "code",
   "execution_count": null,
   "id": "1aa48384-aa8e-42d8-b374-89cc071c7a91",
   "metadata": {
    "tags": []
   },
   "outputs": [],
   "source": [
    "df_out.describe(include='all')"
   ]
  },
  {
   "cell_type": "code",
   "execution_count": null,
   "id": "1034a50d-7eb1-4fb9-a8b5-2603f096c51b",
   "metadata": {
    "tags": []
   },
   "outputs": [],
   "source": [
    "#df_out.to_json(\"out.json\", orient='records', lines=True)\n",
    "df_out.to_json(\"out.json\")"
   ]
  },
  {
   "cell_type": "markdown",
   "id": "4d0b87f0-c235-47f0-848a-167ad75ee147",
   "metadata": {},
   "source": [
    "# Шаг 5\n",
    "\n",
    "## Визуализация\n",
    "\n",
    "### Итоговые визиты"
   ]
  },
  {
   "cell_type": "code",
   "execution_count": null,
   "id": "da7f8e92-8edb-4f99-800f-95c44922c74f",
   "metadata": {
    "tags": []
   },
   "outputs": [],
   "source": [
    "df_graf_visit_grouped = df_visit_grouped.copy(deep=True)\n",
    "\n",
    "result_df = df_graf_visit_grouped.groupby('date_group')['visits'].sum().reset_index()\n",
    "result_df['date_group'] = pd.to_datetime(result_df['date_group'])\n",
    "\n",
    "plt.figure(figsize=(20, 10))\n",
    "plt.bar(result_df['date_group'], result_df['visits'], color='skyblue')\n",
    "\n",
    "plt.xlabel('Date Group')\n",
    "plt.ylabel('Visits')\n",
    "plt.title('Total Visits')\n",
    "\n",
    "mondays = WeekdayLocator(MONDAY)\n",
    "plt.gca().xaxis.set_major_locator(mondays)\n",
    "plt.gca().xaxis.set_major_formatter(mdates.DateFormatter('%Y-%m-%d'))\n",
    "\n",
    "plt.xticks(rotation=45, ha='right')\n",
    "\n",
    "mean_value = result_df['visits'].mean()\n",
    "plt.axhline(y=mean_value, color='red', linestyle='--', label='Mean Visits')\n",
    "\n",
    "plt.grid(axis='y', linestyle='--', alpha=0.7)\n",
    "\n",
    "\n",
    "plt.legend()\n",
    "plt.tight_layout()\n",
    "\n",
    "plt.savefig('charts/total_visits_chart.png', bbox_inches='tight')\n",
    "\n",
    "plt.show()"
   ]
  },
  {
   "cell_type": "markdown",
   "id": "c6673d6b-17dd-4884-b7b1-f410ca781959",
   "metadata": {},
   "source": [
    "### Итоговые визиты с разбивкой по платформам: web, android, ios, bot"
   ]
  },
  {
   "cell_type": "code",
   "execution_count": null,
   "id": "0984a934-8cb5-4d87-818e-837ef9438ab5",
   "metadata": {
    "tags": []
   },
   "outputs": [],
   "source": [
    "df_graf_visit_grouped_platform = df_visit_grouped.copy(deep=True)\n",
    "\n",
    "df_graf_visit_grouped_platform['date_group'] = pd.to_datetime(df_graf_visit_grouped_platform['date_group'])\n",
    "\n",
    "fig, ax = plt.subplots(figsize=(20, 10))\n",
    "\n",
    "df_graf_visit_grouped_platform.groupby(['date_group', 'platform']).sum()['visits'].unstack().plot(kind='bar', stacked=True, ax=ax)\n",
    "\n",
    "ax.set_xlabel('date_group')\n",
    "ax.set_ylabel('visits')\n",
    "ax.set_title('Visits by platform')\n",
    "\n",
    "ax.legend(title='platform')\n",
    "\n",
    "ax.yaxis.grid(True)\n",
    "\n",
    "plt.xticks(rotation=45, ha='right')\n",
    "\n",
    "ax.xaxis.set_major_locator(plt.MaxNLocator(30))\n",
    "\n",
    "plt.savefig('charts/total_visits_platform_chart.png', bbox_inches='tight')\n",
    "\n",
    "plt.show()"
   ]
  },
  {
   "cell_type": "markdown",
   "id": "4e9cfebb-3662-45b3-9909-57ce7340cf91",
   "metadata": {},
   "source": [
    "### Итоговые регистрации"
   ]
  },
  {
   "cell_type": "code",
   "execution_count": null,
   "id": "0c6c97ca-5f62-4883-9679-8f8a47c2f721",
   "metadata": {
    "tags": []
   },
   "outputs": [],
   "source": [
    "df_graf_registrations_grouped = df_registrations_grouped.copy(deep=True)\n",
    "\n",
    "df_graf_registrations_grouped = df_graf_registrations_grouped.groupby('date_group')['registrations'].sum().reset_index()\n",
    "\n",
    "plt.figure(figsize=(20, 10))\n",
    "\n",
    "plt.bar(df_graf_registrations_grouped['date_group'], df_graf_registrations_grouped['registrations'], color='skyblue', alpha=0.7, label='Registrations')\n",
    "\n",
    "mean_value = df_graf_registrations_grouped['registrations'].mean()\n",
    "plt.axhline(y=mean_value, color='red', linestyle='--', label='Mean Value')\n",
    "\n",
    "plt.grid(axis='y', linestyle='--', alpha=0.7)\n",
    "\n",
    "plt.title('Total Registrations')\n",
    "\n",
    "plt.xticks(df_graf_registrations_grouped['date_group'][::7], rotation=45, ha='right')\n",
    "\n",
    "plt.legend()\n",
    "\n",
    "plt.savefig('charts/total_registrations_chart.png')\n",
    "\n",
    "plt.show()\n"
   ]
  },
  {
   "cell_type": "markdown",
   "id": "d8ad309c-b094-49be-81e7-30e575c783da",
   "metadata": {},
   "source": [
    "### Итоговые регистрации с разбивкой по платформе: web, android, ios"
   ]
  },
  {
   "cell_type": "code",
   "execution_count": null,
   "id": "c0cc9403-6a45-41ea-b394-b77dc12f15c6",
   "metadata": {
    "tags": []
   },
   "outputs": [],
   "source": [
    "df_registrations_copy = df_registrations.copy(deep=True)\n",
    "\n",
    "df_registrations_copy['date_group'] = pd.to_datetime(df_registrations_copy['datetime'], format='%a, %d %b %Y %H:%M:%S GMT').dt.strftime('%Y-%m-%d')\n",
    "\n",
    "grouped_df = df_registrations_copy.groupby(['date_group', 'platform']).size().reset_index(name='registration')\n",
    "\n",
    "fig, ax = plt.subplots(figsize=(20, 10))\n",
    "\n",
    "for platform in grouped_df['platform'].unique():\n",
    "    platform_data = grouped_df[grouped_df['platform'] == platform]\n",
    "    ax.bar(platform_data['date_group'], platform_data['registration'], label=platform)\n",
    "\n",
    "ax.set_xlabel('Date Group')\n",
    "ax.set_ylabel('Registration')\n",
    "ax.set_title('Registrations by Platform')\n",
    "ax.legend()\n",
    "\n",
    "ax.grid(True, axis='y')\n",
    "\n",
    "x_labels = grouped_df['date_group'].unique()[::7]\n",
    "ax.set_xticks(x_labels)\n",
    "ax.set_xticklabels(x_labels, rotation=45, ha='right')\n",
    "\n",
    "plt.savefig('charts/total_registrations_platform_chart.png')\n",
    "\n",
    "plt.show()"
   ]
  },
  {
   "cell_type": "markdown",
   "id": "fd6b550e-415e-44c9-8cd5-856610263a40",
   "metadata": {},
   "source": [
    "### Итоговые регистрации с разбивкой по типу регистрации: email, google, apple, yandex"
   ]
  },
  {
   "cell_type": "code",
   "execution_count": null,
   "id": "8be14800-affe-42a1-a138-78f8238ada80",
   "metadata": {
    "tags": []
   },
   "outputs": [],
   "source": [
    "df_graf_registration_type_copy = df_registrations.copy(deep=True)\n",
    "df_graf_registration_platform_copy = df_registrations.copy(deep=True)\n",
    "\n",
    "df_graf_registration_type_copy = df_graf_registration_type_copy.groupby('registration_type').size().reset_index(name='registration')\n",
    "df_graf_registration_platform_copy = df_graf_registration_platform_copy.groupby('platform').size().reset_index(name='registration')\n",
    "\n",
    "fig, ax = plt.subplots(1, 2, figsize=(20, 10))\n",
    "\n",
    "ax[0].pie(df_graf_registration_type_copy['registration'], labels=df_graf_registration_type_copy['registration_type'], autopct='%1.1f%%', startangle=90)\n",
    "ax[0].set_title('Registration by Type')\n",
    "\n",
    "ax[1].pie(df_graf_registration_platform_copy['registration'], labels=df_graf_registration_platform_copy['platform'], autopct='%1.1f%%', startangle=90)\n",
    "ax[1].set_title('Registration by Platform')\n",
    "\n",
    "plt.savefig('charts/registration_type_platform_chart.png')\n",
    "\n",
    "plt.show()"
   ]
  },
  {
   "cell_type": "markdown",
   "id": "aacc6762-111b-4ccc-929b-720cf7dbb5c3",
   "metadata": {},
   "source": [
    "### Конверсия по каждой платформе"
   ]
  },
  {
   "cell_type": "code",
   "execution_count": null,
   "id": "99026ca7-e777-46d5-b5fb-6ba1d133412f",
   "metadata": {
    "tags": []
   },
   "outputs": [],
   "source": [
    "df_conversion_copy = df_conversion.copy(deep=True)\n",
    "\n",
    "android_data = df_conversion_copy[df_conversion_copy['platform'] == 'android']\n",
    "ios_data = df_conversion_copy[df_conversion_copy['platform'] == 'ios']\n",
    "web_data = df_conversion_copy[df_conversion_copy['platform'] == 'web']\n",
    "\n",
    "fig, axs = plt.subplots(3, 1, figsize=(20, 15), sharex=False, sharey=False)\n",
    "\n",
    "axs[0].plot(android_data['date_group'], android_data['conversion'], label='Android')\n",
    "axs[0].set_title('Conversion для Android')\n",
    "axs[0].set_ylabel('Conversion (%)')\n",
    "axs[0].legend()\n",
    "axs[0].grid(True, linestyle='-', linewidth=2, alpha=0.5, which='both', axis='y', markevery=2)\n",
    "axs[0].tick_params(axis='x', rotation=45)  # Поворот меток оси x\n",
    "axs[0].xaxis.set_major_locator(plt.MaxNLocator(nbins=30))\n",
    "\n",
    "axs[1].plot(ios_data['date_group'], ios_data['conversion'], label='iOS')\n",
    "axs[1].set_title('Conversion для iOS')\n",
    "axs[1].set_ylabel('Conversion (%)')\n",
    "axs[1].legend()\n",
    "axs[1].grid(True, linestyle='-', linewidth=2, alpha=0.5, which='both', axis='y', markevery=2)\n",
    "axs[1].tick_params(axis='x', rotation=45) \n",
    "axs[1].xaxis.set_major_locator(plt.MaxNLocator(nbins=30)) \n",
    "\n",
    "axs[2].plot(web_data['date_group'], web_data['conversion'], label='Web')\n",
    "axs[2].set_title('Conversion для Web')\n",
    "axs[2].set_xlabel('date_group')\n",
    "axs[2].set_ylabel('Conversion (%)')\n",
    "axs[2].legend()\n",
    "axs[2].grid(True, linestyle='-', linewidth=2, alpha=0.5, which='both', axis='y', markevery=2)\n",
    "axs[2].tick_params(axis='x', rotation=45) \n",
    "axs[2].xaxis.set_major_locator(plt.MaxNLocator(nbins=30))\n",
    "\n",
    "plt.tight_layout()\n",
    "\n",
    "plt.savefig('charts/conversion_platform_chart.png')\n",
    "\n",
    "plt.show()"
   ]
  },
  {
   "cell_type": "markdown",
   "id": "7628d8a0-c768-42b4-97be-80efe38eccf4",
   "metadata": {},
   "source": [
    "### Средняя конверсия <span style=\"color:red;\">(Общая)</span>\n"
   ]
  },
  {
   "cell_type": "code",
   "execution_count": null,
   "id": "95434059-bfaa-4ca7-bb10-a985df39eb56",
   "metadata": {
    "tags": []
   },
   "outputs": [],
   "source": [
    "df_conversion_total = df_conversion.copy(deep=True)\n",
    "\n",
    "grouped_df = df_conversion_total.groupby('date_group').agg({'visits': 'sum', 'registrations': 'sum'})\n",
    "\n",
    "grouped_df['conversion'] = (grouped_df['registrations'] / grouped_df['visits'] * 100).round(2)\n",
    "\n",
    "plt.figure(figsize=(20, 10))\n",
    "plt.plot(grouped_df.index, grouped_df['conversion'], linestyle='-')\n",
    "\n",
    "plt.title('Conversion Total')\n",
    "plt.xlabel('date_group')\n",
    "plt.ylabel('Conversion (%)')\n",
    "\n",
    "plt.xticks(df_graf_registrations_grouped['date_group'][::7], rotation=45, ha='right')\n",
    "\n",
    "plt.grid(which='major', axis='y', linestyle='-', linewidth=1.5, color='gray', alpha=0.7)\n",
    "\n",
    "plt.gca().xaxis.set_major_locator(MultipleLocator(10))\n",
    "\n",
    "plt.savefig('charts/conversion_total_chart.png')\n",
    "\n",
    "plt.show()"
   ]
  },
  {
   "cell_type": "markdown",
   "id": "1b8edcd9-6680-448b-8e2b-c78ef33f5cf9",
   "metadata": {},
   "source": [
    "### Стоимости реклам"
   ]
  },
  {
   "cell_type": "code",
   "execution_count": null,
   "id": "de9c496a-8aea-4759-a33a-c4f65fae0c83",
   "metadata": {
    "tags": []
   },
   "outputs": [],
   "source": [
    "df_ads_total = df_ads.copy(deep=True)\n",
    "\n",
    "df_ads_total = df_ads_total.groupby('date_group')['cost'].sum().reset_index()\n",
    "\n",
    "df_ads_total.plot(x='date_group', y='cost', kind='line', linestyle='-', figsize=(20, 10))\n",
    "\n",
    "plt.title('Total cost')\n",
    "plt.xlabel('date_group')\n",
    "plt.ylabel('cost')\n",
    "plt.grid(True)\n",
    "\n",
    "plt.savefig('charts/cost_total_chart.png')\n",
    "\n",
    "plt.show()"
   ]
  },
  {
   "cell_type": "markdown",
   "id": "561c9309-1e14-4710-9718-a352bc5d64a0",
   "metadata": {},
   "source": [
    "### Визиты за весь период с цветовым выделением рекламной кампании"
   ]
  },
  {
   "cell_type": "code",
   "execution_count": null,
   "id": "e25fe351-7886-4d14-bba7-ee0e5e04ddcd",
   "metadata": {
    "tags": []
   },
   "outputs": [],
   "source": [
    "df_ads_group_1 = df_ads.copy(deep=True)\n",
    "df_ads_group_1 = df_ads_group_1.groupby(['date_group', 'utm_source', 'utm_medium', 'campaign'], as_index=False)['cost'].sum()\n",
    "\n",
    "df_graf_visit_grouped_1 = df_visit_grouped.copy(deep=True)\n",
    "df_graf_visit_grouped_1 = df_graf_visit_grouped_1.groupby('date_group')['visits'].sum().reset_index()\n",
    "\n",
    "df_graf_registrations_grouped_1 = df_registrations_grouped.copy(deep=True)\n",
    "\n",
    "df_graf_registrations_grouped_1 = df_graf_registrations_grouped_1.groupby('date_group')['registrations'].sum().reset_index()"
   ]
  },
  {
   "cell_type": "code",
   "execution_count": null,
   "id": "d1bddbd1-945a-444b-aae0-3698a3bb74f9",
   "metadata": {
    "tags": []
   },
   "outputs": [],
   "source": [
    "grouped_df = df_ads_group_1.groupby(['utm_source', 'utm_medium', 'campaign'])\n",
    "result_df = pd.DataFrame(columns=['date_group_start', 'date_group_end', 'Ads'])\n",
    "\n",
    "for group, group_df in grouped_df:\n",
    "    start_date = group_df['date_group'].min()\n",
    "    end_date = group_df['date_group'].max()\n",
    "    ads_name = '-'.join(group)\n",
    "    \n",
    "    result_df = pd.concat([result_df, pd.DataFrame({'date_group_start': [start_date],\n",
    "                                                    'date_group_end': [end_date],\n",
    "                                                    'Ads': [ads_name]})], ignore_index=True)\n",
    "    \n",
    "\n",
    "grouped_df = df_ads_group_1.groupby(['utm_source', 'utm_medium', 'campaign'])\n",
    "result_df = pd.DataFrame(columns=['date_group_start', 'date_group_end', 'Ads'])\n",
    "\n",
    "for group, group_df in grouped_df:\n",
    "    start_date = group_df['date_group'].min()\n",
    "    end_date = group_df['date_group'].max()\n",
    "    ads_name = '-'.join(group)\n",
    "    \n",
    "    result_df = pd.concat([result_df, pd.DataFrame({'date_group_start': [start_date],\n",
    "                                                    'date_group_end': [end_date],\n",
    "                                                    'Ads': [ads_name]})], ignore_index=True)\n",
    "\n",
    "num_colors = len(result_df['Ads'].unique())\n",
    "ads_colors = plt.cm.rainbow(np.linspace(0, 1, num_colors))\n",
    "\n",
    "ads_color_dict = dict(zip(result_df['Ads'].unique(), ads_colors))\n",
    "\n",
    "plt.figure(figsize=(20, 10))\n",
    "plt.plot(df_graf_visit_grouped_1['date_group'], df_graf_visit_grouped_1['visits'], label='visits')\n",
    "\n",
    "for index, row in result_df.iterrows():\n",
    "    plt.axvspan(row['date_group_start'], row['date_group_end'], facecolor=ads_color_dict[row['Ads']], alpha=0.5, label=row['Ads'])\n",
    "\n",
    "plt.grid(which='major', axis='y', linestyle='-', linewidth=1.5, color='gray', alpha=0.7)\n",
    "plt.title('Visits during marketing active days')\n",
    "plt.xlabel('date_group')\n",
    "plt.ylabel('visits')\n",
    "plt.xticks(df_graf_visit_grouped_1['date_group'][::7], rotation=45, ha='right')\n",
    "\n",
    "handles, labels = plt.gca().get_legend_handles_labels()\n",
    "by_label = dict(zip(labels, handles))\n",
    "plt.legend(by_label.values(), by_label.keys())\n",
    "\n",
    "plt.savefig('charts/visits_during_marketing_active_days.png')\n",
    "\n",
    "plt.show()"
   ]
  },
  {
   "cell_type": "markdown",
   "id": "6575e316-729b-45c6-a748-1f7ecee0974b",
   "metadata": {},
   "source": [
    "### Регистрации за весь период с цветовым выделением рекламной кампании"
   ]
  },
  {
   "cell_type": "code",
   "execution_count": null,
   "id": "933f8f17-172a-4f1e-9763-6a52b48b6964",
   "metadata": {},
   "outputs": [],
   "source": [
    "grouped_df = df_ads_group_1.groupby(['utm_source', 'utm_medium', 'campaign'])\n",
    "result_df = pd.DataFrame(columns=['date_group_start', 'date_group_end', 'Ads'])\n",
    "\n",
    "for group, group_df in grouped_df:\n",
    "    start_date = group_df['date_group'].min()\n",
    "    end_date = group_df['date_group'].max()\n",
    "    ads_name = '-'.join(group)\n",
    "    \n",
    "    result_df = pd.concat([result_df, pd.DataFrame({'date_group_start': [start_date],\n",
    "                                                    'date_group_end': [end_date],\n",
    "                                                    'Ads': [ads_name]})], ignore_index=True)\n",
    "    \n",
    "\n",
    "grouped_df = df_ads_group_1.groupby(['utm_source', 'utm_medium', 'campaign'])\n",
    "result_df = pd.DataFrame(columns=['date_group_start', 'date_group_end', 'Ads'])\n",
    "\n",
    "for group, group_df in grouped_df:\n",
    "    start_date = group_df['date_group'].min()\n",
    "    end_date = group_df['date_group'].max()\n",
    "    ads_name = '-'.join(group)\n",
    "    \n",
    "    result_df = pd.concat([result_df, pd.DataFrame({'date_group_start': [start_date],\n",
    "                                                    'date_group_end': [end_date],\n",
    "                                                    'Ads': [ads_name]})], ignore_index=True)\n",
    "\n",
    "num_colors = len(result_df['Ads'].unique())\n",
    "ads_colors = plt.cm.rainbow(np.linspace(0, 1, num_colors))\n",
    "\n",
    "ads_color_dict = dict(zip(result_df['Ads'].unique(), ads_colors))\n",
    "\n",
    "plt.figure(figsize=(20, 10))\n",
    "plt.plot(df_graf_registrations_grouped_1['date_group'], df_graf_registrations_grouped_1['registrations'], label='registrations')\n",
    "\n",
    "for index, row in result_df.iterrows():\n",
    "    plt.axvspan(row['date_group_start'], row['date_group_end'], facecolor=ads_color_dict[row['Ads']], alpha=0.5, label=row['Ads'])\n",
    "\n",
    "plt.grid(which='major', axis='y', linestyle='-', linewidth=1.5, color='gray', alpha=0.7)\n",
    "plt.title('Registrations during marketing active days')\n",
    "plt.xlabel('date_group')\n",
    "plt.ylabel('registrations')\n",
    "plt.xticks(df_graf_registrations_grouped_1['date_group'][::7], rotation=45, ha='right')\n",
    "\n",
    "handles, labels = plt.gca().get_legend_handles_labels()\n",
    "by_label = dict(zip(labels, handles))\n",
    "plt.legend(by_label.values(), by_label.keys())\n",
    "\n",
    "plt.savefig('charts/registrations_during_marketing_active_days.png')\n",
    "\n",
    "plt.show()"
   ]
  },
  {
   "cell_type": "code",
   "execution_count": null,
   "id": "2ee1dd76-34d6-4ac9-9cbb-8ad79b69b244",
   "metadata": {},
   "outputs": [],
   "source": []
  }
 ],
 "metadata": {
  "kernelspec": {
   "display_name": "Python 3 (ipykernel)",
   "language": "python",
   "name": "python3"
  },
  "language_info": {
   "codemirror_mode": {
    "name": "ipython",
    "version": 3
   },
   "file_extension": ".py",
   "mimetype": "text/x-python",
   "name": "python",
   "nbconvert_exporter": "python",
   "pygments_lexer": "ipython3",
   "version": "3.11.5"
  }
 },
 "nbformat": 4,
 "nbformat_minor": 5
}
