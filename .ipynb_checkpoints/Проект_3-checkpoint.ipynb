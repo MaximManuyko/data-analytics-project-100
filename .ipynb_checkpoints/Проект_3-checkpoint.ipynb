{
 "cells": [
  {
   "cell_type": "code",
   "execution_count": 14,
   "id": "c8c08d09-1e51-419b-89d0-f17e51697c99",
   "metadata": {
    "tags": []
   },
   "outputs": [
    {
     "name": "stdout",
     "output_type": "stream",
     "text": [
      "[{'datetime': 'Wed, 01 Mar 2023 13:29:22 GMT', 'platform': 'web', 'user_agent': 'Mozilla/5.0 (Macintosh; Intel Mac OS X 10_11_2) AppleWebKit/601.3.9 (KHTML, like Gecko) Version/9.0.2 Safari/601.3.9', 'visit_id': '1de9ea66-70d3-4a1f-8735-df5ef7697fb9'}, {'datetime': 'Wed, 01 Mar 2023 16:44:28 GMT', 'platform': 'web', 'user_agent': 'Mozilla/5.0 (X11; CrOS x86_64 8172.45.0) AppleWebKit/537.36 (KHTML, like Gecko) Chrome/51.0.2704.64 Safari/537.36', 'visit_id': 'f149f542-e935-4870-9734-6b4501eaf614'}, {'datetime': 'Mon, 06 Mar 2023 06:12:36 GMT', 'platform': 'web', 'user_agent': 'Mozilla/5.0 (X11; CrOS x86_64 8172.45.0) AppleWebKit/537.36 (KHTML, like Gecko) Chrome/51.0.2704.64 Safari/537.36', 'visit_id': 'f149f542-e935-4870-9734-6b4501eaf614'}, {'datetime': 'Wed, 01 Mar 2023 20:16:37 GMT', 'platform': 'web', 'user_agent': 'Mozilla/5.0 (X11; Ubuntu; Linux x86_64; rv:109.0) Gecko/20100101 Firefox/113.0', 'visit_id': '08f0ebd4-950c-4dd9-8e97-b5bdf073eed1'}, {'datetime': 'Sun, 05 Mar 2023 17:42:47 GMT', 'platform': 'web', 'user_agent': 'Mozilla/5.0 (X11; Ubuntu; Linux x86_64; rv:109.0) Gecko/20100101 Firefox/113.0', 'visit_id': '08f0ebd4-950c-4dd9-8e97-b5bdf073eed1'}]\n"
     ]
    }
   ],
   "source": [
    "import requests\n",
    "\n",
    "requests.get(\"https://data-charts-api.hexlet.app/visits?begin=2022-06-01&end=2023-06-01\")\n",
    "\n",
    "print(response.json()[:5])"
   ]
  },
  {
   "cell_type": "code",
   "execution_count": 13,
   "id": "9e340588-1a02-4263-9c21-c1647eaaf24a",
   "metadata": {
    "tags": []
   },
   "outputs": [
    {
     "name": "stdout",
     "output_type": "stream",
     "text": [
      "Статус-код: 200\n",
      "Первые пять строк данных:\n",
      "[{'datetime': 'Wed, 01 Mar 2023 13:29:22 GMT', 'platform': 'web', 'user_agent': 'Mozilla/5.0 (Macintosh; Intel Mac OS X 10_11_2) AppleWebKit/601.3.9 (KHTML, like Gecko) Version/9.0.2 Safari/601.3.9', 'visit_id': '1de9ea66-70d3-4a1f-8735-df5ef7697fb9'}, {'datetime': 'Wed, 01 Mar 2023 16:44:28 GMT', 'platform': 'web', 'user_agent': 'Mozilla/5.0 (X11; CrOS x86_64 8172.45.0) AppleWebKit/537.36 (KHTML, like Gecko) Chrome/51.0.2704.64 Safari/537.36', 'visit_id': 'f149f542-e935-4870-9734-6b4501eaf614'}, {'datetime': 'Mon, 06 Mar 2023 06:12:36 GMT', 'platform': 'web', 'user_agent': 'Mozilla/5.0 (X11; CrOS x86_64 8172.45.0) AppleWebKit/537.36 (KHTML, like Gecko) Chrome/51.0.2704.64 Safari/537.36', 'visit_id': 'f149f542-e935-4870-9734-6b4501eaf614'}, {'datetime': 'Wed, 01 Mar 2023 20:16:37 GMT', 'platform': 'web', 'user_agent': 'Mozilla/5.0 (X11; Ubuntu; Linux x86_64; rv:109.0) Gecko/20100101 Firefox/113.0', 'visit_id': '08f0ebd4-950c-4dd9-8e97-b5bdf073eed1'}, {'datetime': 'Sun, 05 Mar 2023 17:42:47 GMT', 'platform': 'web', 'user_agent': 'Mozilla/5.0 (X11; Ubuntu; Linux x86_64; rv:109.0) Gecko/20100101 Firefox/113.0', 'visit_id': '08f0ebd4-950c-4dd9-8e97-b5bdf073eed1'}]\n"
     ]
    }
   ],
   "source": [
    "import requests\n",
    "\n",
    "# Отправляем GET-запрос\n",
    "response = requests.get(\"https://data-charts-api.hexlet.app/visits?begin=2022-06-01&end=2023-06-01\")\n",
    "\n",
    "# Проверяем статус-код\n",
    "print(f\"Статус-код: {response.status_code}\")\n",
    "\n",
    "# Если запрос успешен, выводим первые пять строк данных\n",
    "if response.status_code == 200:\n",
    "    data = response.json()\n",
    "    print(\"Первые пять строк данных:\")\n",
    "    print(data[:5])\n",
    "else:\n",
    "    print(f\"Ошибка при запросе данных. Код ошибки: {response.status_code}\")\n"
   ]
  },
  {
   "cell_type": "code",
   "execution_count": 11,
   "id": "c37dd42b-f414-4455-8f6f-d8938237987d",
   "metadata": {
    "tags": []
   },
   "outputs": [
    {
     "name": "stdout",
     "output_type": "stream",
     "text": [
      "                             datetime platform  \\\n",
      "count                          193359   193359   \n",
      "unique                         190867        3   \n",
      "top     Sat, 20 May 2023 19:18:10 GMT      web   \n",
      "freq                                3   178356   \n",
      "\n",
      "                                               user_agent  \\\n",
      "count                                              193359   \n",
      "unique                                                 28   \n",
      "top     Mozilla/5.0 (Macintosh; Intel Mac OS X 10_15_7...   \n",
      "freq                                                10075   \n",
      "\n",
      "                                    visit_id  \n",
      "count                                 193359  \n",
      "unique                                105532  \n",
      "top     e2944f9c-9324-4ea2-ad82-f2c397b70976  \n",
      "freq                                       4  \n"
     ]
    }
   ],
   "source": [
    "import requests\n",
    "import pandas as pd\n",
    "\n",
    "# Отправка GET-запроса\n",
    "response = requests.get(\"https://data-charts-api.hexlet.app/visits?begin=2022-06-01&end=2023-06-01\")\n",
    "\n",
    "# Проверка статуса запроса\n",
    "if response.status_code == 200:\n",
    "    # Если статус успешен, пытаемся прочитать JSON\n",
    "    data = response.json()\n",
    "    \n",
    "    # Преобразование в DataFrame (если данные это список словарей)\n",
    "    df = pd.DataFrame(data)\n",
    "    \n",
    "    # Вывод описательной статистики\n",
    "    print(df.describe())\n",
    "    \n",
    "else:\n",
    "    # Если статус не успешен, выводим сообщение об ошибке\n",
    "    print(f\"Ошибка запроса. Статус код: {response.status_code}\")\n"
   ]
  },
  {
   "cell_type": "code",
   "execution_count": 12,
   "id": "8592ad6e-f3c4-48b3-91bd-e4c81ab43311",
   "metadata": {
    "tags": []
   },
   "outputs": [
    {
     "name": "stdout",
     "output_type": "stream",
     "text": [
      "Уникальные значения 'platform':\n",
      "['web' 'android' 'ios']\n",
      "\n",
      "Уникальные значения 'user_agent':\n",
      "['Mozilla/5.0 (Macintosh; Intel Mac OS X 10_11_2) AppleWebKit/601.3.9 (KHTML, like Gecko) Version/9.0.2 Safari/601.3.9'\n",
      " 'Mozilla/5.0 (X11; CrOS x86_64 8172.45.0) AppleWebKit/537.36 (KHTML, like Gecko) Chrome/51.0.2704.64 Safari/537.36'\n",
      " 'Mozilla/5.0 (X11; Ubuntu; Linux x86_64; rv:109.0) Gecko/20100101 Firefox/113.0'\n",
      " 'Mozilla/5.0 (Windows NT 10.0; Win64; x64) AppleWebKit/537.36 (KHTML, like Gecko) Chrome/109.0.0.0 Safari/537.3'\n",
      " 'Mozilla/5.0 (Windows NT 6.1; WOW64) AppleWebKit/537.36 (KHTML, like Gecko) Chrome/47.0.2526.111 Safari/537.36'\n",
      " 'Mozilla/5.0 (Macintosh; Intel Mac OS X 10_15_7) AppleWebKit/537.36 (KHTML, like Gecko) Chrome/119.0.0.0 Safari/537.36'\n",
      " 'Mozilla/5.0 (Macintosh; Intel Mac OS X 10_15_7) AppleWebKit/537.36 (KHTML, like Gecko) Chrome/118.0.0.0 Safari/537.36'\n",
      " 'Mozilla/5.0 (Windows NT 10.0; Win64; x64) AppleWebKit/537.36 (KHTML, like Gecko) Chrome/117.0.0.0 Safari/537.36 Edg/117.0.2045.6'\n",
      " 'Mozilla/5.0 (Windows NT 10.0; Win64; x64; rv:109.0) Gecko/20100101 Firefox/119.0'\n",
      " 'Mozilla/5.0 (Windows NT 10.0; Win64; x64; rv:109.0) Gecko/20100101 Firefox/119.'\n",
      " 'Mozilla/5.0 (X11; Ubuntu; Linux x86_64; rv:15.0) Gecko/20100101 Firefox/15.0.1'\n",
      " 'Mozilla/5.0 (Windows NT 10.0; Win64; x64) AppleWebKit/537.36 (KHTML, like Gecko) Chrome/42.0.2311.135 Safari/537.36 Edge/12.246'\n",
      " 'Mozilla/5.0 (Windows NT 10.0; Win64; x64) AppleWebKit/537.36 (KHTML, like Gecko) Chrome/109.0.0.0 Safari/537.36'\n",
      " 'Mozilla/5.0 (Windows NT 10.0; WOW64; Trident/7.0; rv:11.0) like Geck'\n",
      " 'Mozilla/5.0 (Windows NT 10.0; Win64; x64) AppleWebKit/537.36 (KHTML, like Gecko) Chrome/119.0.0.0 Safari/537.36 Edg/119.0.0.'\n",
      " 'Mozilla/5.0 (Windows NT 10.0; Win64; x64) AppleWebKit/537.36 (KHTML, like Gecko) Chrome/118.0.0.0 Safari/537.36'\n",
      " 'Mozilla/5.0 (Windows NT 10.0; Win64; x64) AppleWebKit/537.36 (KHTML, like Gecko) Chrome/119.0.0.0 Safari/537.36'\n",
      " 'Mozilla/5.0 (X11; Ubuntu; Linux x86_64; rv:109.0) Gecko/20100101 Firefox/119.0'\n",
      " 'Mozilla/5.0 (Linux; Android 13; SAMSUNG SM-A546B) AppleWebKit/537.36 (KHTML, like Gecko) SamsungBrowser/23.0 Chrome/115.0.0.0 Mobile Safari/537.3'\n",
      " 'Mozilla/5.0 (Linux; Android 10; K) AppleWebKit/537.36 (KHTML, like Gecko) Chrome/115.0.0.0 Mobile Safari/537.3'\n",
      " 'Mozilla/5.0 (Linux; Android 10; K) AppleWebKit/537.36 (KHTML, like Gecko) Chrome/119.0.0.0 Mobile Safari/537.36'\n",
      " 'Mozilla/5.0 (Linux; Android 10; K) AppleWebKit/537.36 (KHTML, like Gecko) Chrome/118.0.0.0 Mobile Safari/537.3'\n",
      " 'Mozilla/5.0 (Linux; Android 10; K) AppleWebKit/537.36 (KHTML, like Gecko) Chrome/119.0.0.0 Mobile Safari/537.3'\n",
      " 'Mozilla/5.0 (Android 13; Mobile; rv:109.0) Gecko/119.0 Firefox/119.'\n",
      " 'Mozilla/5.0 (iPhone; CPU iPhone OS 15_8 like Mac OS X) AppleWebKit/605.1.15 (KHTML, like Gecko) CriOS/119.0.6045.109 Mobile/15E148 Safari/604.'\n",
      " 'Mozilla/5.0 (iPhone; CPU iPhone OS 16_6_1 like Mac OS X) AppleWebKit/605.1.15 (KHTML, like Gecko) Version/16.6 Mobile/15E148 Safari/604.'\n",
      " 'Mozilla/5.0 (iPhone; CPU iPhone OS 17_0_3 like Mac OS X) AppleWebKit/605.1.15 (KHTML, like Gecko) Version/17.0.1 Mobile/15E148 Safari/604.'\n",
      " 'Mozilla/5.0 (iPhone; CPU iPhone OS 16_1_1 like Mac OS X) AppleWebKit/605.1.15 (KHTML, like Gecko) Version/16.1 Mobile/15E148 Safari/604.']\n"
     ]
    }
   ],
   "source": [
    "import requests\n",
    "import pandas as pd\n",
    "\n",
    "# Отправка GET-запроса\n",
    "response = requests.get(\"https://data-charts-api.hexlet.app/visits?begin=2022-06-01&end=2023-06-01\")\n",
    "\n",
    "# Проверка статуса запроса\n",
    "if response.status_code == 200:\n",
    "    # Если статус успешен, пытаемся прочитать JSON\n",
    "    data = response.json()\n",
    "    \n",
    "    # Преобразование в DataFrame (если данные это список словарей)\n",
    "    df = pd.DataFrame(data)\n",
    "    \n",
    "    # Вывод уникальных значений для 'platform' и 'user_agent'\n",
    "    unique_platforms = df['platform'].unique()\n",
    "    unique_user_agents = df['user_agent'].unique()\n",
    "    \n",
    "    print(\"Уникальные значения 'platform':\")\n",
    "    print(unique_platforms)\n",
    "    \n",
    "    print(\"\\nУникальные значения 'user_agent':\")\n",
    "    print(unique_user_agents)\n",
    "    \n",
    "else:\n",
    "    # Если статус не успешен, выводим сообщение об ошибке\n",
    "    print(f\"Ошибка запроса. Статус код: {response.status_code}\")\n"
   ]
  },
  {
   "cell_type": "code",
   "execution_count": 1,
   "id": "be381a20-43bd-494d-845a-1a851b831595",
   "metadata": {
    "tags": []
   },
   "outputs": [
    {
     "name": "stdout",
     "output_type": "stream",
     "text": [
      "CPU times: user 2.77 s, sys: 360 ms, total: 3.13 s\n",
      "Wall time: 6.75 s\n"
     ]
    },
    {
     "data": {
      "text/html": [
       "<div>\n",
       "<style scoped>\n",
       "    .dataframe tbody tr th:only-of-type {\n",
       "        vertical-align: middle;\n",
       "    }\n",
       "\n",
       "    .dataframe tbody tr th {\n",
       "        vertical-align: top;\n",
       "    }\n",
       "\n",
       "    .dataframe thead th {\n",
       "        text-align: right;\n",
       "    }\n",
       "</style>\n",
       "<table border=\"1\" class=\"dataframe\">\n",
       "  <thead>\n",
       "    <tr style=\"text-align: right;\">\n",
       "      <th></th>\n",
       "      <th>datetime</th>\n",
       "      <th>platform</th>\n",
       "      <th>user_agent</th>\n",
       "      <th>visit_id</th>\n",
       "    </tr>\n",
       "  </thead>\n",
       "  <tbody>\n",
       "    <tr>\n",
       "      <th>count</th>\n",
       "      <td>384812</td>\n",
       "      <td>384812</td>\n",
       "      <td>384812</td>\n",
       "      <td>384812</td>\n",
       "    </tr>\n",
       "    <tr>\n",
       "      <th>unique</th>\n",
       "      <td>379926</td>\n",
       "      <td>3</td>\n",
       "      <td>28</td>\n",
       "      <td>207766</td>\n",
       "    </tr>\n",
       "    <tr>\n",
       "      <th>top</th>\n",
       "      <td>Sun, 04 Jun 2023 23:30:23 GMT</td>\n",
       "      <td>web</td>\n",
       "      <td>Mozilla/5.0 (Macintosh; Intel Mac OS X 10_15_7...</td>\n",
       "      <td>3789e599-9ee9-4c82-a201-f5635db54789</td>\n",
       "    </tr>\n",
       "    <tr>\n",
       "      <th>freq</th>\n",
       "      <td>3</td>\n",
       "      <td>355209</td>\n",
       "      <td>20104</td>\n",
       "      <td>4</td>\n",
       "    </tr>\n",
       "  </tbody>\n",
       "</table>\n",
       "</div>"
      ],
      "text/plain": [
       "                             datetime platform  \\\n",
       "count                          384812   384812   \n",
       "unique                         379926        3   \n",
       "top     Sun, 04 Jun 2023 23:30:23 GMT      web   \n",
       "freq                                3   355209   \n",
       "\n",
       "                                               user_agent  \\\n",
       "count                                              384812   \n",
       "unique                                                 28   \n",
       "top     Mozilla/5.0 (Macintosh; Intel Mac OS X 10_15_7...   \n",
       "freq                                                20104   \n",
       "\n",
       "                                    visit_id  \n",
       "count                                 384812  \n",
       "unique                                207766  \n",
       "top     3789e599-9ee9-4c82-a201-f5635db54789  \n",
       "freq                                       4  "
      ]
     },
     "execution_count": 1,
     "metadata": {},
     "output_type": "execute_result"
    }
   ],
   "source": [
    "%%time\n",
    "\n",
    "import requests\n",
    "import pandas as pd\n",
    "\n",
    "# Отправка GET-запроса\n",
    "response = requests.get(\"https://data-charts-api.hexlet.app/visits?begin=2023-03-01&end=2023-09-01\")\n",
    "\n",
    "data = response.json()\n",
    "\n",
    "# Преобразование в DataFrame\n",
    "df = pd.DataFrame(data)\n",
    "\n",
    "# Вывод первых нескольких строк таблицы\n",
    "df.head()\n",
    "df.describe()\n"
   ]
  },
  {
   "cell_type": "code",
   "execution_count": 4,
   "id": "8d7bde43-145f-4090-a5f6-19ed7d6554d8",
   "metadata": {},
   "outputs": [
    {
     "name": "stdout",
     "output_type": "stream",
     "text": [
      "CPU times: user 146 ms, sys: 9.48 ms, total: 156 ms\n",
      "Wall time: 1.06 s\n"
     ]
    },
    {
     "data": {
      "text/html": [
       "<div>\n",
       "<style scoped>\n",
       "    .dataframe tbody tr th:only-of-type {\n",
       "        vertical-align: middle;\n",
       "    }\n",
       "\n",
       "    .dataframe tbody tr th {\n",
       "        vertical-align: top;\n",
       "    }\n",
       "\n",
       "    .dataframe thead th {\n",
       "        text-align: right;\n",
       "    }\n",
       "</style>\n",
       "<table border=\"1\" class=\"dataframe\">\n",
       "  <thead>\n",
       "    <tr style=\"text-align: right;\">\n",
       "      <th></th>\n",
       "      <th>datetime</th>\n",
       "      <th>email</th>\n",
       "      <th>platform</th>\n",
       "      <th>registration_type</th>\n",
       "      <th>user_id</th>\n",
       "    </tr>\n",
       "  </thead>\n",
       "  <tbody>\n",
       "    <tr>\n",
       "      <th>count</th>\n",
       "      <td>27934</td>\n",
       "      <td>27934</td>\n",
       "      <td>27934</td>\n",
       "      <td>27934</td>\n",
       "      <td>27934</td>\n",
       "    </tr>\n",
       "    <tr>\n",
       "      <th>unique</th>\n",
       "      <td>27913</td>\n",
       "      <td>26454</td>\n",
       "      <td>3</td>\n",
       "      <td>4</td>\n",
       "      <td>27903</td>\n",
       "    </tr>\n",
       "    <tr>\n",
       "      <th>top</th>\n",
       "      <td>Tue, 04 Apr 2023 15:03:09 GMT</td>\n",
       "      <td>osmith@example.com</td>\n",
       "      <td>android</td>\n",
       "      <td>email</td>\n",
       "      <td>1396855</td>\n",
       "    </tr>\n",
       "    <tr>\n",
       "      <th>freq</th>\n",
       "      <td>2</td>\n",
       "      <td>7</td>\n",
       "      <td>13385</td>\n",
       "      <td>11798</td>\n",
       "      <td>2</td>\n",
       "    </tr>\n",
       "  </tbody>\n",
       "</table>\n",
       "</div>"
      ],
      "text/plain": [
       "                             datetime               email platform  \\\n",
       "count                           27934               27934    27934   \n",
       "unique                          27913               26454        3   \n",
       "top     Tue, 04 Apr 2023 15:03:09 GMT  osmith@example.com  android   \n",
       "freq                                2                   7    13385   \n",
       "\n",
       "       registration_type  user_id  \n",
       "count              27934    27934  \n",
       "unique                 4    27903  \n",
       "top                email  1396855  \n",
       "freq               11798        2  "
      ]
     },
     "execution_count": 4,
     "metadata": {},
     "output_type": "execute_result"
    }
   ],
   "source": [
    "%%time\n",
    "\n",
    "import requests\n",
    "import pandas as pd\n",
    "\n",
    "# Отправка GET-запроса\n",
    "response = requests.get(\"https://data-charts-api.hexlet.app/registrations?begin=2023-03-01&end=2023-09-01\")\n",
    "\n",
    "data = response.json()\n",
    "\n",
    "# Преобразование в DataFrame\n",
    "df = pd.DataFrame(data)\n",
    "\n",
    "# Вывод первых нескольких строк таблицы\n",
    "df.head()\n",
    "df.describe()\n"
   ]
  },
  {
   "cell_type": "markdown",
   "id": "ba703a03-c822-4107-8efd-e833f9db6cab",
   "metadata": {},
   "source": [
    "Проект модуля #3\n",
    "# Дашборд конверсий\n",
    "Аналитик данных"
   ]
  },
  {
   "cell_type": "markdown",
   "id": "fe0d0980-c831-43e4-8fdb-c79b08b9365e",
   "metadata": {},
   "source": [
    "# Шаг 1\n",
    "## Подготовка к работе с данными"
   ]
  }
 ],
 "metadata": {
  "kernelspec": {
   "display_name": "Python 3 (ipykernel)",
   "language": "python",
   "name": "python3"
  },
  "language_info": {
   "codemirror_mode": {
    "name": "ipython",
    "version": 3
   },
   "file_extension": ".py",
   "mimetype": "text/x-python",
   "name": "python",
   "nbconvert_exporter": "python",
   "pygments_lexer": "ipython3",
   "version": "3.11.5"
  }
 },
 "nbformat": 4,
 "nbformat_minor": 5
}
