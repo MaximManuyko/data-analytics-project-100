{
 "cells": [
  {
   "cell_type": "code",
   "execution_count": 1,
   "id": "f4cbd6b5-b574-415e-987f-0ca6cb0d675c",
   "metadata": {
    "tags": []
   },
   "outputs": [
    {
     "name": "stdout",
     "output_type": "stream",
     "text": [
      "CPU times: user 1.86 s, sys: 179 ms, total: 2.04 s\n",
      "Wall time: 346 ms\n"
     ]
    }
   ],
   "source": [
    "%%time\n",
    "import pandas as pd\n",
    "import requests"
   ]
  },
  {
   "cell_type": "code",
   "execution_count": 2,
   "id": "80fd364f-8910-4f08-9eb3-ae60ff2153d1",
   "metadata": {
    "tags": []
   },
   "outputs": [
    {
     "name": "stdout",
     "output_type": "stream",
     "text": [
      "CPU times: user 4 µs, sys: 1 µs, total: 5 µs\n",
      "Wall time: 7.87 µs\n"
     ]
    }
   ],
   "source": [
    "%%time\n",
    "\n",
    "START = \"2023-03-01\"\n",
    "END = \"2023-09-01\""
   ]
  },
  {
   "cell_type": "code",
   "execution_count": 3,
   "id": "3d20179c-ce50-40be-8309-16590f3526a3",
   "metadata": {
    "tags": []
   },
   "outputs": [
    {
     "name": "stdout",
     "output_type": "stream",
     "text": [
      "CPU times: user 459 ms, sys: 131 ms, total: 590 ms\n",
      "Wall time: 5.6 s\n"
     ]
    },
    {
     "data": {
      "text/html": [
       "<div>\n",
       "<style scoped>\n",
       "    .dataframe tbody tr th:only-of-type {\n",
       "        vertical-align: middle;\n",
       "    }\n",
       "\n",
       "    .dataframe tbody tr th {\n",
       "        vertical-align: top;\n",
       "    }\n",
       "\n",
       "    .dataframe thead th {\n",
       "        text-align: right;\n",
       "    }\n",
       "</style>\n",
       "<table border=\"1\" class=\"dataframe\">\n",
       "  <thead>\n",
       "    <tr style=\"text-align: right;\">\n",
       "      <th></th>\n",
       "      <th>datetime</th>\n",
       "      <th>platform</th>\n",
       "      <th>user_agent</th>\n",
       "      <th>visit_id</th>\n",
       "    </tr>\n",
       "  </thead>\n",
       "  <tbody>\n",
       "    <tr>\n",
       "      <th>0</th>\n",
       "      <td>Wed, 01 Mar 2023 23:17:37 GMT</td>\n",
       "      <td>web</td>\n",
       "      <td>Mozilla/5.0 (Windows NT 10.0; Win64; x64) Appl...</td>\n",
       "      <td>1de9ea66-70d3-4a1f-8735-df5ef7697fb9</td>\n",
       "    </tr>\n",
       "    <tr>\n",
       "      <th>1</th>\n",
       "      <td>Sat, 04 Mar 2023 03:23:34 GMT</td>\n",
       "      <td>web</td>\n",
       "      <td>Mozilla/5.0 (Windows NT 10.0; Win64; x64) Appl...</td>\n",
       "      <td>1de9ea66-70d3-4a1f-8735-df5ef7697fb9</td>\n",
       "    </tr>\n",
       "    <tr>\n",
       "      <th>2</th>\n",
       "      <td>Wed, 01 Mar 2023 12:57:13 GMT</td>\n",
       "      <td>web</td>\n",
       "      <td>Mozilla/5.0 (Windows NT 10.0; Win64; x64) Appl...</td>\n",
       "      <td>f149f542-e935-4870-9734-6b4501eaf614</td>\n",
       "    </tr>\n",
       "    <tr>\n",
       "      <th>3</th>\n",
       "      <td>Wed, 01 Mar 2023 13:07:19 GMT</td>\n",
       "      <td>web</td>\n",
       "      <td>Mozilla/5.0 (Macintosh; Intel Mac OS X 10_15_7...</td>\n",
       "      <td>08f0ebd4-950c-4dd9-8e97-b5bdf073eed1</td>\n",
       "    </tr>\n",
       "    <tr>\n",
       "      <th>4</th>\n",
       "      <td>Sun, 05 Mar 2023 22:02:39 GMT</td>\n",
       "      <td>web</td>\n",
       "      <td>Mozilla/5.0 (Macintosh; Intel Mac OS X 10_15_7...</td>\n",
       "      <td>08f0ebd4-950c-4dd9-8e97-b5bdf073eed1</td>\n",
       "    </tr>\n",
       "  </tbody>\n",
       "</table>\n",
       "</div>"
      ],
      "text/plain": [
       "                        datetime platform  \\\n",
       "0  Wed, 01 Mar 2023 23:17:37 GMT      web   \n",
       "1  Sat, 04 Mar 2023 03:23:34 GMT      web   \n",
       "2  Wed, 01 Mar 2023 12:57:13 GMT      web   \n",
       "3  Wed, 01 Mar 2023 13:07:19 GMT      web   \n",
       "4  Sun, 05 Mar 2023 22:02:39 GMT      web   \n",
       "\n",
       "                                          user_agent  \\\n",
       "0  Mozilla/5.0 (Windows NT 10.0; Win64; x64) Appl...   \n",
       "1  Mozilla/5.0 (Windows NT 10.0; Win64; x64) Appl...   \n",
       "2  Mozilla/5.0 (Windows NT 10.0; Win64; x64) Appl...   \n",
       "3  Mozilla/5.0 (Macintosh; Intel Mac OS X 10_15_7...   \n",
       "4  Mozilla/5.0 (Macintosh; Intel Mac OS X 10_15_7...   \n",
       "\n",
       "                               visit_id  \n",
       "0  1de9ea66-70d3-4a1f-8735-df5ef7697fb9  \n",
       "1  1de9ea66-70d3-4a1f-8735-df5ef7697fb9  \n",
       "2  f149f542-e935-4870-9734-6b4501eaf614  \n",
       "3  08f0ebd4-950c-4dd9-8e97-b5bdf073eed1  \n",
       "4  08f0ebd4-950c-4dd9-8e97-b5bdf073eed1  "
      ]
     },
     "execution_count": 3,
     "metadata": {},
     "output_type": "execute_result"
    }
   ],
   "source": [
    "%%time\n",
    "\n",
    "response = requests.get(f\"https://data-charts-api.hexlet.app/visits?begin={START}&end={END}\")\n",
    "\n",
    "data = response.json()\n",
    "\n",
    "df_visits = pd.DataFrame(data)\n",
    "\n",
    "df_visits.head()"
   ]
  },
  {
   "cell_type": "code",
   "execution_count": 4,
   "id": "43ff8b3e-4412-4e04-8251-e112364649d1",
   "metadata": {
    "tags": []
   },
   "outputs": [
    {
     "data": {
      "text/html": [
       "<div>\n",
       "<style scoped>\n",
       "    .dataframe tbody tr th:only-of-type {\n",
       "        vertical-align: middle;\n",
       "    }\n",
       "\n",
       "    .dataframe tbody tr th {\n",
       "        vertical-align: top;\n",
       "    }\n",
       "\n",
       "    .dataframe thead th {\n",
       "        text-align: right;\n",
       "    }\n",
       "</style>\n",
       "<table border=\"1\" class=\"dataframe\">\n",
       "  <thead>\n",
       "    <tr style=\"text-align: right;\">\n",
       "      <th></th>\n",
       "      <th>datetime</th>\n",
       "      <th>platform</th>\n",
       "      <th>user_agent</th>\n",
       "      <th>visit_id</th>\n",
       "    </tr>\n",
       "  </thead>\n",
       "  <tbody>\n",
       "    <tr>\n",
       "      <th>count</th>\n",
       "      <td>308871</td>\n",
       "      <td>308871</td>\n",
       "      <td>308871</td>\n",
       "      <td>308871</td>\n",
       "    </tr>\n",
       "    <tr>\n",
       "      <th>unique</th>\n",
       "      <td>303530</td>\n",
       "      <td>4</td>\n",
       "      <td>32</td>\n",
       "      <td>170101</td>\n",
       "    </tr>\n",
       "    <tr>\n",
       "      <th>top</th>\n",
       "      <td>Tue, 14 Mar 2023 13:31:26 GMT</td>\n",
       "      <td>web</td>\n",
       "      <td>Mozilla/5.0 (Windows NT 10.0; Win64; x64) Appl...</td>\n",
       "      <td>5f260cd8-3c51-41fe-a394-8f5213d58793</td>\n",
       "    </tr>\n",
       "    <tr>\n",
       "      <th>freq</th>\n",
       "      <td>4</td>\n",
       "      <td>278078</td>\n",
       "      <td>15679</td>\n",
       "      <td>4</td>\n",
       "    </tr>\n",
       "  </tbody>\n",
       "</table>\n",
       "</div>"
      ],
      "text/plain": [
       "                             datetime platform  \\\n",
       "count                          308871   308871   \n",
       "unique                         303530        4   \n",
       "top     Tue, 14 Mar 2023 13:31:26 GMT      web   \n",
       "freq                                4   278078   \n",
       "\n",
       "                                               user_agent  \\\n",
       "count                                              308871   \n",
       "unique                                                 32   \n",
       "top     Mozilla/5.0 (Windows NT 10.0; Win64; x64) Appl...   \n",
       "freq                                                15679   \n",
       "\n",
       "                                    visit_id  \n",
       "count                                 308871  \n",
       "unique                                170101  \n",
       "top     5f260cd8-3c51-41fe-a394-8f5213d58793  \n",
       "freq                                       4  "
      ]
     },
     "execution_count": 4,
     "metadata": {},
     "output_type": "execute_result"
    }
   ],
   "source": [
    "df_visits.describe(include='all')"
   ]
  },
  {
   "cell_type": "code",
   "execution_count": 6,
   "id": "68a05ad9-3c3e-475e-a065-218db57e26ae",
   "metadata": {
    "tags": []
   },
   "outputs": [
    {
     "name": "stdout",
     "output_type": "stream",
     "text": [
      "CPU times: user 129 ms, sys: 17.4 ms, total: 146 ms\n",
      "Wall time: 1.19 s\n"
     ]
    },
    {
     "data": {
      "text/html": [
       "<div>\n",
       "<style scoped>\n",
       "    .dataframe tbody tr th:only-of-type {\n",
       "        vertical-align: middle;\n",
       "    }\n",
       "\n",
       "    .dataframe tbody tr th {\n",
       "        vertical-align: top;\n",
       "    }\n",
       "\n",
       "    .dataframe thead th {\n",
       "        text-align: right;\n",
       "    }\n",
       "</style>\n",
       "<table border=\"1\" class=\"dataframe\">\n",
       "  <thead>\n",
       "    <tr style=\"text-align: right;\">\n",
       "      <th></th>\n",
       "      <th>datetime</th>\n",
       "      <th>email</th>\n",
       "      <th>platform</th>\n",
       "      <th>registration_type</th>\n",
       "      <th>user_id</th>\n",
       "    </tr>\n",
       "  </thead>\n",
       "  <tbody>\n",
       "    <tr>\n",
       "      <th>0</th>\n",
       "      <td>Wed, 01 Mar 2023 00:25:39 GMT</td>\n",
       "      <td>joseph95@example.org</td>\n",
       "      <td>web</td>\n",
       "      <td>google</td>\n",
       "      <td>8838849</td>\n",
       "    </tr>\n",
       "    <tr>\n",
       "      <th>1</th>\n",
       "      <td>Wed, 01 Mar 2023 14:53:01 GMT</td>\n",
       "      <td>janetsuarez@example.net</td>\n",
       "      <td>web</td>\n",
       "      <td>yandex</td>\n",
       "      <td>8741065</td>\n",
       "    </tr>\n",
       "    <tr>\n",
       "      <th>2</th>\n",
       "      <td>Wed, 01 Mar 2023 14:27:36 GMT</td>\n",
       "      <td>robert67@example.org</td>\n",
       "      <td>web</td>\n",
       "      <td>google</td>\n",
       "      <td>1866654</td>\n",
       "    </tr>\n",
       "    <tr>\n",
       "      <th>3</th>\n",
       "      <td>Wed, 01 Mar 2023 02:42:34 GMT</td>\n",
       "      <td>elam@example.net</td>\n",
       "      <td>web</td>\n",
       "      <td>apple</td>\n",
       "      <td>1577584</td>\n",
       "    </tr>\n",
       "    <tr>\n",
       "      <th>4</th>\n",
       "      <td>Wed, 01 Mar 2023 10:27:14 GMT</td>\n",
       "      <td>stephanie68@example.net</td>\n",
       "      <td>web</td>\n",
       "      <td>yandex</td>\n",
       "      <td>4765395</td>\n",
       "    </tr>\n",
       "  </tbody>\n",
       "</table>\n",
       "</div>"
      ],
      "text/plain": [
       "                        datetime                    email platform  \\\n",
       "0  Wed, 01 Mar 2023 00:25:39 GMT     joseph95@example.org      web   \n",
       "1  Wed, 01 Mar 2023 14:53:01 GMT  janetsuarez@example.net      web   \n",
       "2  Wed, 01 Mar 2023 14:27:36 GMT     robert67@example.org      web   \n",
       "3  Wed, 01 Mar 2023 02:42:34 GMT         elam@example.net      web   \n",
       "4  Wed, 01 Mar 2023 10:27:14 GMT  stephanie68@example.net      web   \n",
       "\n",
       "  registration_type  user_id  \n",
       "0            google  8838849  \n",
       "1            yandex  8741065  \n",
       "2            google  1866654  \n",
       "3             apple  1577584  \n",
       "4            yandex  4765395  "
      ]
     },
     "execution_count": 6,
     "metadata": {},
     "output_type": "execute_result"
    }
   ],
   "source": [
    "%%time\n",
    "\n",
    "response = requests.get(f\"https://data-charts-api.hexlet.app/registrations?begin={START}&end={END}\")\n",
    "\n",
    "data = response.json()\n",
    "\n",
    "df_registrations = pd.DataFrame(data)\n",
    "\n",
    "df_registrations.head()"
   ]
  },
  {
   "cell_type": "code",
   "execution_count": 7,
   "id": "a89859ae-9f52-4f51-b0fb-2dbaf6775591",
   "metadata": {
    "tags": []
   },
   "outputs": [
    {
     "data": {
      "text/html": [
       "<div>\n",
       "<style scoped>\n",
       "    .dataframe tbody tr th:only-of-type {\n",
       "        vertical-align: middle;\n",
       "    }\n",
       "\n",
       "    .dataframe tbody tr th {\n",
       "        vertical-align: top;\n",
       "    }\n",
       "\n",
       "    .dataframe thead th {\n",
       "        text-align: right;\n",
       "    }\n",
       "</style>\n",
       "<table border=\"1\" class=\"dataframe\">\n",
       "  <thead>\n",
       "    <tr style=\"text-align: right;\">\n",
       "      <th></th>\n",
       "      <th>datetime</th>\n",
       "      <th>email</th>\n",
       "      <th>platform</th>\n",
       "      <th>registration_type</th>\n",
       "      <th>user_id</th>\n",
       "    </tr>\n",
       "  </thead>\n",
       "  <tbody>\n",
       "    <tr>\n",
       "      <th>count</th>\n",
       "      <td>27934</td>\n",
       "      <td>27934</td>\n",
       "      <td>27934</td>\n",
       "      <td>27934</td>\n",
       "      <td>27934</td>\n",
       "    </tr>\n",
       "    <tr>\n",
       "      <th>unique</th>\n",
       "      <td>27913</td>\n",
       "      <td>26454</td>\n",
       "      <td>3</td>\n",
       "      <td>4</td>\n",
       "      <td>27903</td>\n",
       "    </tr>\n",
       "    <tr>\n",
       "      <th>top</th>\n",
       "      <td>Tue, 04 Apr 2023 15:03:09 GMT</td>\n",
       "      <td>osmith@example.com</td>\n",
       "      <td>android</td>\n",
       "      <td>email</td>\n",
       "      <td>1396855</td>\n",
       "    </tr>\n",
       "    <tr>\n",
       "      <th>freq</th>\n",
       "      <td>2</td>\n",
       "      <td>7</td>\n",
       "      <td>13385</td>\n",
       "      <td>11798</td>\n",
       "      <td>2</td>\n",
       "    </tr>\n",
       "  </tbody>\n",
       "</table>\n",
       "</div>"
      ],
      "text/plain": [
       "                             datetime               email platform  \\\n",
       "count                           27934               27934    27934   \n",
       "unique                          27913               26454        3   \n",
       "top     Tue, 04 Apr 2023 15:03:09 GMT  osmith@example.com  android   \n",
       "freq                                2                   7    13385   \n",
       "\n",
       "       registration_type  user_id  \n",
       "count              27934    27934  \n",
       "unique                 4    27903  \n",
       "top                email  1396855  \n",
       "freq               11798        2  "
      ]
     },
     "execution_count": 7,
     "metadata": {},
     "output_type": "execute_result"
    }
   ],
   "source": [
    "df_registrations.describe().head()"
   ]
  },
  {
   "cell_type": "code",
   "execution_count": 5,
   "id": "bf368343-5d4b-4379-9423-df872d601468",
   "metadata": {},
   "outputs": [
    {
     "name": "stdout",
     "output_type": "stream",
     "text": [
      "Уникальные значения в колонке 'user_agent' сохранены в файле: unique_user_agents_1.xlsx\n",
      "CPU times: user 88.2 ms, sys: 22.9 ms, total: 111 ms\n",
      "Wall time: 171 ms\n"
     ]
    }
   ],
   "source": [
    "%%time\n",
    "\n",
    "# Создание датафрейма с уникальными значениями в колонке \"user_agent\"\n",
    "df_unique_user_agents = df_visits[['user_agent']].drop_duplicates()\n",
    "\n",
    "# Сохранение в Excel файл\n",
    "excel_filename = 'unique_user_agents_1.xlsx'\n",
    "df_unique_user_agents.to_excel(excel_filename, index=False)\n",
    "\n",
    "print(f\"Уникальные значения в колонке 'user_agent' сохранены в файле: {excel_filename}\")"
   ]
  },
  {
   "cell_type": "code",
   "execution_count": null,
   "id": "5b920647-d7b7-4e0f-8b15-226feb7f0fa0",
   "metadata": {},
   "outputs": [],
   "source": []
  }
 ],
 "metadata": {
  "kernelspec": {
   "display_name": "Python 3 (ipykernel)",
   "language": "python",
   "name": "python3"
  },
  "language_info": {
   "codemirror_mode": {
    "name": "ipython",
    "version": 3
   },
   "file_extension": ".py",
   "mimetype": "text/x-python",
   "name": "python",
   "nbconvert_exporter": "python",
   "pygments_lexer": "ipython3",
   "version": "3.11.5"
  }
 },
 "nbformat": 4,
 "nbformat_minor": 5
}
